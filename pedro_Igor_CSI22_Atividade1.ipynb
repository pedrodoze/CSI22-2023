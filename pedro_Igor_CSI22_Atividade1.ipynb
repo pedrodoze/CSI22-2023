{
 "cells": [
  {
   "cell_type": "code",
   "execution_count": 1,
   "metadata": {},
   "outputs": [],
   "source": [
    "import turtle\n",
    "#supondo sz como o comprimento do lado\n",
    "def draw_poly(t, n, sz):\n",
    "    for i in range(n):\n",
    "        t.forward(sz)\n",
    "        internal_angle = 180-180*(n-2)/n\n",
    "        t.left(internal_angle)\n",
    "\n",
    "wn = turtle.Screen()\n",
    "pedro = turtle.Turtle()\n",
    "draw_poly(pedro,8,140)\n",
    "wn.mainloop()\n",
    "\n"
   ]
  },
  {
   "cell_type": "code",
   "execution_count": 3,
   "metadata": {},
   "outputs": [
    {
     "name": "stdout",
     "output_type": "stream",
     "text": [
      "55\n"
     ]
    }
   ],
   "source": [
    "def sum_to(n):\n",
    "    soma = 0\n",
    "    for i in range(n):\n",
    "        soma +=(i+1)\n",
    "    return soma\n",
    "\n",
    "a = sum_to(10)\n",
    "print(a)"
   ]
  },
  {
   "cell_type": "code",
   "execution_count": 1,
   "metadata": {},
   "outputs": [],
   "source": [
    "import turtle\n",
    "#supondo sz como o comprimento do lado\n",
    "wn = turtle.Screen()\n",
    "pedro = turtle.Turtle()\n",
    "\n",
    "while True:\n",
    "    pedro.forward(100)\n",
    "    pedro.left(90)\n",
    "    pedro.forward(100)\n",
    "    pedro.left(90)\n",
    "    pedro.forward(100)\n",
    "    pedro.left(90)\n",
    "    pedro.forward(98)\n",
    "    pedro.left(90)\n",
    "    pedro.forward(98)\n",
    "    pedro.left(90)\n",
    "    pedro.forward(96)\n",
    "    pedro.left(90)\n",
    "    pedro.forward(96)\n",
    "    pedro.left(90)\n",
    "    pedro.forward(94)\n",
    "    pedro.left(90)\n",
    "    pedro.forward(94)\n",
    "    pedro.left(90)\n",
    "    break\n",
    "\n",
    "\n",
    "\n",
    "wn.mainloop()"
   ]
  }
 ],
 "metadata": {
  "kernelspec": {
   "display_name": "Python 3",
   "language": "python",
   "name": "python3"
  },
  "language_info": {
   "codemirror_mode": {
    "name": "ipython",
    "version": 3
   },
   "file_extension": ".py",
   "mimetype": "text/x-python",
   "name": "python",
   "nbconvert_exporter": "python",
   "pygments_lexer": "ipython3",
   "version": "3.9.7"
  },
  "orig_nbformat": 4
 },
 "nbformat": 4,
 "nbformat_minor": 2
}
